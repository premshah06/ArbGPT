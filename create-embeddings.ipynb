{
 "cells": [
  {
   "cell_type": "code",
   "execution_count": 1,
   "metadata": {},
   "outputs": [
    {
     "data": {
      "text/plain": [
       "True"
      ]
     },
     "execution_count": 1,
     "metadata": {},
     "output_type": "execute_result"
    }
   ],
   "source": [
    "import os\n",
    "from dotenv import load_dotenv\n",
    "import pymongo\n",
    "from tqdm import tqdm\n",
    "\n",
    "# Load environment variables from a .env file\n",
    "load_dotenv()"
   ]
  },
  {
   "cell_type": "code",
   "execution_count": 2,
   "metadata": {},
   "outputs": [
    {
     "name": "stdout",
     "output_type": "stream",
     "text": [
      "Loaded MongoDB connection url and OpenAI API Key\n"
     ]
    }
   ],
   "source": [
    "# Retrieve environment variables\n",
    "MONGODB_CONN_URI = os.getenv('MONGODB_CONN_URI')\n",
    "GITHUB_TOKEN = os.getenv('GITHUB_TOKEN')\n",
    "\n",
    "# Verify that both environment variables are set\n",
    "if MONGODB_CONN_URI and GITHUB_TOKEN:\n",
    "    print(\"Loaded MongoDB connection url and OpenAI API Key\")\n",
    "else:\n",
    "    print(\"Error: Missing MongoDB connection URL or OpenAI API Key.\")"
   ]
  },
  {
   "cell_type": "code",
   "execution_count": 3,
   "metadata": {},
   "outputs": [],
   "source": [
    "# Create a MongoDB client instance\n",
    "try:\n",
    "    client = pymongo.MongoClient(MONGODB_CONN_URI)\n",
    "except pymongo.errors.ConnectionError as e:\n",
    "    print(f\"Error connecting to MongoDB: {e}\")"
   ]
  },
  {
   "cell_type": "code",
   "execution_count": 5,
   "metadata": {},
   "outputs": [],
   "source": [
    "# Define database, collection, and index names\n",
    "DB_NAME = 'arb_knowledgebase'\n",
    "COLLECTION_NAME = 'docs'\n",
    "INDEX_NAME = 'idx_embedding'"
   ]
  },
  {
   "cell_type": "code",
   "execution_count": 7,
   "metadata": {},
   "outputs": [],
   "source": [
    "from langchain_openai import OpenAIEmbeddings\n",
    "from llama_index.core import Settings\n",
    "\n",
    "embed_model = OpenAIEmbeddings(\n",
    "    model=\"text-embedding-3-large\",\n",
    "    base_url=\"https://models.inference.ai.azure.com\",\n",
    "    api_key=GITHUB_TOKEN\n",
    ")\n",
    "\n",
    "# Set the embedding model in the Settings configuration\n",
    "Settings.embed_model = embed_model"
   ]
  },
  {
   "cell_type": "code",
   "execution_count": 8,
   "metadata": {},
   "outputs": [],
   "source": [
    "from llama_index.vector_stores.mongodb import MongoDBAtlasVectorSearch\n",
    "from llama_index.core import StorageContext\n",
    "\n",
    "# Initialize the vector store with MongoDB Atlas\n",
    "vector_store = MongoDBAtlasVectorSearch(\n",
    "    mongodb_client=client,\n",
    "    db_name=DB_NAME,\n",
    "    collection_name=COLLECTION_NAME,\n",
    "    vector_index_name=INDEX_NAME\n",
    ")\n",
    "\n",
    "# Create a storage context with the initialized vector store\n",
    "storage_context = StorageContext.from_defaults(vector_store=vector_store)"
   ]
  },
  {
   "cell_type": "code",
   "execution_count": null,
   "metadata": {},
   "outputs": [
    {
     "name": "stdout",
     "output_type": "stream",
     "text": [
      "Loaded 1 chunks from 'data'\n"
     ]
    }
   ],
   "source": [
    "from llama_index.core import SimpleDirectoryReader\n",
    "\n",
    "# Define the directory containing the data\n",
    "data_dir = 'data'\n",
    "\n",
    "# Load data from the specified directory\n",
    "docs = SimpleDirectoryReader(\n",
    "    input_dir=data_dir,\n",
    "    recursive=False\n",
    ").load_data()\n",
    "\n",
    "# Output the number of loaded chunks\n",
    "print(f\"Loaded {len(docs)} chunks from '{data_dir}'\")"
   ]
  },
  {
   "cell_type": "code",
   "execution_count": 12,
   "metadata": {},
   "outputs": [],
   "source": [
    "from llama_index.core import VectorStoreIndex\n",
    "\n",
    "# Create a MongoDB index from the loaded documents\n",
    "index = VectorStoreIndex.from_documents(\n",
    "    documents=docs,\n",
    "    storage_context=storage_context,\n",
    "    embed_model=embed_model\n",
    ")"
   ]
  }
 ],
 "metadata": {
  "kernelspec": {
   "display_name": ".venv",
   "language": "python",
   "name": "python3"
  },
  "language_info": {
   "codemirror_mode": {
    "name": "ipython",
    "version": 3
   },
   "file_extension": ".py",
   "mimetype": "text/x-python",
   "name": "python",
   "nbconvert_exporter": "python",
   "pygments_lexer": "ipython3",
   "version": "3.10.12"
  }
 },
 "nbformat": 4,
 "nbformat_minor": 2
}
